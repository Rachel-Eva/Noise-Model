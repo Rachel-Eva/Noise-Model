{
 "cells": [
  {
   "cell_type": "code",
   "execution_count": 50,
   "id": "721e6cea-c746-43dd-b9a2-dd13e23f77f2",
   "metadata": {},
   "outputs": [
    {
     "name": "stdout",
     "output_type": "stream",
     "text": [
      "{'0010': 6, '1011': 266, '0001': 1, '1001': 255, '1010': 252, '0000': 4, '1000': 235, '0011': 5}\n"
     ]
    }
   ],
   "source": [
    "from qiskit import QuantumCircuit, transpile\n",
    "from qiskit_aer import Aer\n",
    "from qiskit_aer.noise import NoiseModel, pauli_error\n",
    "import numpy as np\n",
    "\n",
    "def qft(qc, n):\n",
    "    for j in range(n):\n",
    "        qc.h(j)\n",
    "        for k in range(j + 1, n):\n",
    "            qc.cp(np.pi / (2 ** (k - j)), k, j)\n",
    "\n",
    "def quantum_sum(a, b):\n",
    "    n = max(len(bin(a)) - 2, len(bin(b)) - 2)\n",
    "    qc = QuantumCircuit(n * 2, n * 2)  # Allocate classical bits for measurement\n",
    "    for i in range(len(bin(a)) - 2):\n",
    "        if (a >> i) & 1:\n",
    "            qc.x(i)\n",
    "    for i in range(len(bin(b)) - 2):\n",
    "        if (b >> i) & 1:\n",
    "            qc.x(i + n)\n",
    "    qft(qc, n)\n",
    "    qc.measure(range(n * 2), range(n * 2))  # Add measurement\n",
    "    return qc\n",
    "\n",
    "def add_noise(p1, p2, circuit):\n",
    "    noise_model = NoiseModel()\n",
    "    pauli_1q_error = pauli_error([('X', p1), ('Y', p1), ('Z', p1), ('I', 1 - 3 * p1)])\n",
    "    noise_model.add_all_qubit_quantum_error(pauli_1q_error, ['u1', 'u2', 'u3', 'rz', 'sx', 'x'])\n",
    "    pauli_2q_error = pauli_error([('II', 1 - 3 * p2), ('XX', p2), ('YY', p2), ('ZZ', p2)])\n",
    "    noise_model.add_all_qubit_quantum_error(pauli_2q_error, ['cx'])\n",
    "    return circuit, noise_model\n",
    "\n",
    "def analyze_noise_effects(a, b, p1, p2):\n",
    "    qc = quantum_sum(a, b)\n",
    "    qc_transformed = transpile(qc, basis_gates=['u1', 'u2', 'u3', 'rz', 'sx', 'x', 'cx'])\n",
    "    noisy_circuit, noise_model = add_noise(p1, p2, qc_transformed)\n",
    "    backend = Aer.get_backend('qasm_simulator')\n",
    "    job = backend.run(noisy_circuit, noise_model=noise_model, shots=1024)\n",
    "    counts = job.result().get_counts()\n",
    "    return counts\n",
    "\n",
    "a = 1\n",
    "b = 2\n",
    "p1 = 0.01\n",
    "p2 = 0.01\n",
    "counts = analyze_noise_effects(a, b, p1, p2)\n",
    "print(counts)\n"
   ]
  },
  {
   "cell_type": "code",
   "execution_count": null,
   "id": "1b9f10d2-50fd-4c49-955e-b4496e53ffd0",
   "metadata": {},
   "outputs": [],
   "source": []
  },
  {
   "cell_type": "code",
   "execution_count": null,
   "id": "864ffa77-2e23-4b93-85e4-e7c20ed35b27",
   "metadata": {},
   "outputs": [],
   "source": []
  }
 ],
 "metadata": {
  "kernelspec": {
   "display_name": "Python 3 (ipykernel)",
   "language": "python",
   "name": "python3"
  },
  "language_info": {
   "codemirror_mode": {
    "name": "ipython",
    "version": 3
   },
   "file_extension": ".py",
   "mimetype": "text/x-python",
   "name": "python",
   "nbconvert_exporter": "python",
   "pygments_lexer": "ipython3",
   "version": "3.12.7"
  }
 },
 "nbformat": 4,
 "nbformat_minor": 5
}
